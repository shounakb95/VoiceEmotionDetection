{
 "cells": [
  {
   "cell_type": "code",
   "execution_count": 1,
   "metadata": {},
   "outputs": [
    {
     "name": "stdout",
     "output_type": "stream",
     "text": [
      "Requirement already satisfied: librosa in c:\\users\\sb155\\anaconda3\\lib\\site-packages (0.8.0)\n",
      "Requirement already satisfied: soundfile in c:\\users\\sb155\\anaconda3\\lib\\site-packages (0.10.3.post1)\n",
      "Requirement already satisfied: numpy in c:\\users\\sb155\\anaconda3\\lib\\site-packages (1.18.5)\n",
      "Requirement already satisfied: sklearn in c:\\users\\sb155\\anaconda3\\lib\\site-packages (0.0)\n",
      "Requirement already satisfied: scikit-learn!=0.19.0,>=0.14.0 in c:\\users\\sb155\\anaconda3\\lib\\site-packages (from librosa) (0.23.1)\n",
      "Requirement already satisfied: audioread>=2.0.0 in c:\\users\\sb155\\anaconda3\\lib\\site-packages (from librosa) (2.1.9)\n",
      "Requirement already satisfied: decorator>=3.0.0 in c:\\users\\sb155\\anaconda3\\lib\\site-packages (from librosa) (4.4.2)\n",
      "Requirement already satisfied: joblib>=0.14 in c:\\users\\sb155\\anaconda3\\lib\\site-packages (from librosa) (0.16.0)\n",
      "Requirement already satisfied: resampy>=0.2.2 in c:\\users\\sb155\\anaconda3\\lib\\site-packages (from librosa) (0.2.2)\n",
      "Requirement already satisfied: numba>=0.43.0 in c:\\users\\sb155\\anaconda3\\lib\\site-packages (from librosa) (0.50.1)\n",
      "Requirement already satisfied: scipy>=1.0.0 in c:\\users\\sb155\\anaconda3\\lib\\site-packages (from librosa) (1.5.0)\n",
      "Requirement already satisfied: pooch>=1.0 in c:\\users\\sb155\\anaconda3\\lib\\site-packages (from librosa) (1.2.0)\n",
      "Requirement already satisfied: cffi>=1.0 in c:\\users\\sb155\\anaconda3\\lib\\site-packages (from soundfile) (1.14.0)\n",
      "Requirement already satisfied: threadpoolctl>=2.0.0 in c:\\users\\sb155\\anaconda3\\lib\\site-packages (from scikit-learn!=0.19.0,>=0.14.0->librosa) (2.1.0)\n",
      "Requirement already satisfied: six>=1.3 in c:\\users\\sb155\\appdata\\roaming\\python\\python38\\site-packages (from resampy>=0.2.2->librosa) (1.15.0)\n",
      "Requirement already satisfied: llvmlite<0.34,>=0.33.0.dev0 in c:\\users\\sb155\\anaconda3\\lib\\site-packages (from numba>=0.43.0->librosa) (0.33.0+1.g022ab0f)\n",
      "Requirement already satisfied: setuptools in c:\\users\\sb155\\anaconda3\\lib\\site-packages (from numba>=0.43.0->librosa) (49.2.0.post20200714)\n",
      "Requirement already satisfied: appdirs in c:\\users\\sb155\\anaconda3\\lib\\site-packages (from pooch>=1.0->librosa) (1.4.4)\n",
      "Requirement already satisfied: packaging in c:\\users\\sb155\\anaconda3\\lib\\site-packages (from pooch>=1.0->librosa) (20.4)\n",
      "Requirement already satisfied: requests in c:\\users\\sb155\\anaconda3\\lib\\site-packages (from pooch>=1.0->librosa) (2.24.0)\n",
      "Requirement already satisfied: pycparser in c:\\users\\sb155\\anaconda3\\lib\\site-packages (from cffi>=1.0->soundfile) (2.20)\n",
      "Requirement already satisfied: pyparsing>=2.0.2 in c:\\users\\sb155\\anaconda3\\lib\\site-packages (from packaging->pooch>=1.0->librosa) (2.4.7)\n",
      "Requirement already satisfied: idna<3,>=2.5 in c:\\users\\sb155\\anaconda3\\lib\\site-packages (from requests->pooch>=1.0->librosa) (2.10)\n",
      "Requirement already satisfied: chardet<4,>=3.0.2 in c:\\users\\sb155\\anaconda3\\lib\\site-packages (from requests->pooch>=1.0->librosa) (3.0.4)\n",
      "Requirement already satisfied: urllib3!=1.25.0,!=1.25.1,<1.26,>=1.21.1 in c:\\users\\sb155\\anaconda3\\lib\\site-packages (from requests->pooch>=1.0->librosa) (1.25.9)\n",
      "Requirement already satisfied: certifi>=2017.4.17 in c:\\users\\sb155\\anaconda3\\lib\\site-packages (from requests->pooch>=1.0->librosa) (2020.6.20)\n",
      "Note: you may need to restart the kernel to use updated packages.\n"
     ]
    }
   ],
   "source": [
    "pip install librosa soundfile numpy sklearn"
   ]
  },
  {
   "cell_type": "code",
   "execution_count": 2,
   "metadata": {},
   "outputs": [
    {
     "name": "stdout",
     "output_type": "stream",
     "text": [
      "Collecting package metadata (current_repodata.json): ...working... done\n",
      "Solving environment: ...working... done\n",
      "\n",
      "## Package Plan ##\n",
      "\n",
      "  environment location: C:\\Users\\sb155\\anaconda3\n",
      "\n",
      "  added / updated specs:\n",
      "    - pyaudio\n",
      "\n",
      "\n",
      "The following packages will be downloaded:\n",
      "\n",
      "    package                    |            build\n",
      "    ---------------------------|-----------------\n",
      "    conda-4.9.2                |   py38haa95532_0         2.9 MB\n",
      "    ------------------------------------------------------------\n",
      "                                           Total:         2.9 MB\n",
      "\n",
      "The following packages will be UPDATED:\n",
      "\n",
      "  conda                                4.9.1-py38haa95532_0 --> 4.9.2-py38haa95532_0\n",
      "\n",
      "\n",
      "\n",
      "Downloading and Extracting Packages\n",
      "\n",
      "conda-4.9.2          | 2.9 MB    |            |   0% \n",
      "conda-4.9.2          | 2.9 MB    |            |   1% \n",
      "conda-4.9.2          | 2.9 MB    | ##6        |  26% \n",
      "conda-4.9.2          | 2.9 MB    | #####9     |  59% \n",
      "conda-4.9.2          | 2.9 MB    | ########9  |  90% \n",
      "conda-4.9.2          | 2.9 MB    | ########## | 100% \n",
      "Preparing transaction: ...working... done\n",
      "Verifying transaction: ...working... done\n",
      "Executing transaction: ...working... done\n",
      "\n",
      "Note: you may need to restart the kernel to use updated packages.\n"
     ]
    }
   ],
   "source": [
    "conda install pyaudio"
   ]
  },
  {
   "cell_type": "code",
   "execution_count": 3,
   "metadata": {},
   "outputs": [],
   "source": [
    "import librosa\n",
    "import librosa.display\n",
    "import numpy as np\n",
    "import matplotlib.pyplot as plt\n",
    "import soundfile\n",
    "import os, glob, pickle\n",
    "from sklearn.model_selection import train_test_split\n",
    "from sklearn.neural_network import MLPClassifier\n",
    "from sklearn.metrics import accuracy_score\n",
    "from matplotlib.pyplot import specgram\n",
    "from sklearn.metrics import confusion_matrix"
   ]
  },
  {
   "cell_type": "code",
   "execution_count": 5,
   "metadata": {},
   "outputs": [
    {
     "name": "stdout",
     "output_type": "stream",
     "text": [
      "['03-01-01-01-01-01-01.wav', '03-01-01-01-01-02-01.wav', '03-01-01-01-02-01-01.wav', '03-01-01-01-02-02-01.wav', '03-01-02-01-01-01-01.wav', '03-01-02-01-01-02-01.wav', '03-01-02-01-02-01-01.wav', '03-01-02-01-02-02-01.wav', '03-01-02-02-01-01-01.wav', '03-01-02-02-01-02-01.wav', '03-01-02-02-02-01-01.wav', '03-01-02-02-02-02-01.wav', '03-01-03-01-01-01-01.wav', '03-01-03-01-01-02-01.wav', '03-01-03-01-02-01-01.wav', '03-01-03-01-02-02-01.wav', '03-01-03-02-01-01-01.wav', '03-01-03-02-01-02-01.wav', '03-01-03-02-02-01-01.wav', '03-01-03-02-02-02-01.wav', '03-01-04-01-01-01-01.wav', '03-01-04-01-01-02-01.wav', '03-01-04-01-02-01-01.wav', '03-01-04-01-02-02-01.wav', '03-01-04-02-01-01-01.wav', '03-01-04-02-01-02-01.wav', '03-01-04-02-02-01-01.wav', '03-01-04-02-02-02-01.wav', '03-01-05-01-01-01-01.wav', '03-01-05-01-01-02-01.wav', '03-01-05-01-02-01-01.wav', '03-01-05-01-02-02-01.wav', '03-01-05-02-01-01-01.wav', '03-01-05-02-01-02-01.wav', '03-01-05-02-02-01-01.wav', '03-01-05-02-02-02-01.wav', '03-01-06-01-01-01-01.wav', '03-01-06-01-01-02-01.wav', '03-01-06-01-02-01-01.wav', '03-01-06-01-02-02-01.wav', '03-01-06-02-01-01-01.wav', '03-01-06-02-01-02-01.wav', '03-01-06-02-02-01-01.wav', '03-01-06-02-02-02-01.wav', '03-01-07-01-01-01-01.wav', '03-01-07-01-01-02-01.wav', '03-01-07-01-02-01-01.wav', '03-01-07-01-02-02-01.wav', '03-01-07-02-01-01-01.wav', '03-01-07-02-01-02-01.wav', '03-01-07-02-02-01-01.wav', '03-01-07-02-02-02-01.wav', '03-01-08-01-01-01-01.wav', '03-01-08-01-01-02-01.wav', '03-01-08-01-02-01-01.wav', '03-01-08-01-02-02-01.wav', '03-01-08-02-01-01-01.wav', '03-01-08-02-01-02-01.wav', '03-01-08-02-02-01-01.wav', '03-01-08-02-02-02-01.wav']\n"
     ]
    }
   ],
   "source": [
    "mylist= os.listdir('Audio_Speech_Actors_01-24/Actor_01')\n",
    "print(mylist)"
   ]
  },
  {
   "cell_type": "code",
   "execution_count": 6,
   "metadata": {},
   "outputs": [],
   "source": [
    "data, sampling_rate = librosa.load('Audio_Speech_Actors_01-24/Actor_01/03-01-03-01-01-01-01.wav')"
   ]
  },
  {
   "cell_type": "code",
   "execution_count": 7,
   "metadata": {},
   "outputs": [
    {
     "name": "stdout",
     "output_type": "stream",
     "text": [
      "Populating the interactive namespace from numpy and matplotlib\n"
     ]
    },
    {
     "data": {
      "text/plain": [
       "<matplotlib.collections.PolyCollection at 0x1c226297f40>"
      ]
     },
     "execution_count": 7,
     "metadata": {},
     "output_type": "execute_result"
    },
    {
     "data": {
      "image/png": "[encoded data removed]",
      "text/plain": [
       "<Figure size 1080x360 with 1 Axes>"
      ]
     },
     "metadata": {
      "needs_background": "light"
     },
     "output_type": "display_data"
    }
   ],
   "source": [
    "%pylab inline\n",
    "import os\n",
    "import pandas as pd\n",
    "import librosa\n",
    "import glob \n",
    "\n",
    "plt.figure(figsize=(15, 5))\n",
    "librosa.display.waveplot(data, sr=sampling_rate)"
   ]
  },
  {
   "cell_type": "code",
   "execution_count": 8,
   "metadata": {},
   "outputs": [],
   "source": [
    "def extract_feature(file_name, mfcc, chroma, mel):\n",
    "    with soundfile.SoundFile(file_name) as sound_file:\n",
    "        X = sound_file.read(dtype=\"float32\")\n",
    "        sample_rate=sound_file.samplerate\n",
    "        if chroma:\n",
    "            stft=np.abs(librosa.stft(X))\n",
    "        result=np.array([])\n",
    "        if mfcc:\n",
    "            mfccs=np.mean(librosa.feature.mfcc(y=X, sr=sample_rate, n_mfcc=40).T, axis=0)\n",
    "            result=np.hstack((result, mfccs))\n",
    "        if chroma:\n",
    "            chroma=np.mean(librosa.feature.chroma_stft(S=stft, sr=sample_rate).T,axis=0)\n",
    "            result=np.hstack((result, chroma))\n",
    "    if mel:\n",
    "            mel=np.mean(librosa.feature.melspectrogram(X, sr=sample_rate).T,axis=0)\n",
    "            result=np.hstack((result, mel))\n",
    "    return result"
   ]
  },
  {
   "cell_type": "code",
   "execution_count": 9,
   "metadata": {},
   "outputs": [],
   "source": [
    "emotions={\n",
    "  '01':'neutral',\n",
    "  '02':'calm',\n",
    "  '03':'happy',\n",
    "  '04':'sad',\n",
    "  '05':'angry',\n",
    "  '06':'fearful',\n",
    "  '07':'disgust',\n",
    "  '08':'surprised'\n",
    "}\n",
    "\n",
    "observed_emotions=['calm', 'happy', 'fearful', 'disgust']"
   ]
  },
  {
   "cell_type": "code",
   "execution_count": 56,
   "metadata": {},
   "outputs": [],
   "source": [
    "def load_data(test_size=0.2):\n",
    "    x,y=[],[]\n",
    "    for file in glob.glob(\"/Users/sb155/Downloads/SDA Final Project/speech-emotion-recognition-ravdess-data/Actor_*/*.wav\"):\n",
    "        file_name=os.path.basename(file)\n",
    "        emotion=emotions[file_name.split(\"-\")[2]]\n",
    "        if emotion not in observed_emotions:\n",
    "            continue\n",
    "        feature=extract_feature(file, mfcc=True, chroma=True, mel=True)\n",
    "        x.append(feature)\n",
    "        y.append([emotion,file_name])\n",
    "    return train_test_split(np.array(x), y, test_size=test_size, random_state=9)\n"
   ]
  },
  {
   "cell_type": "code",
   "execution_count": 57,
   "metadata": {},
   "outputs": [
    {
     "name": "stdout",
     "output_type": "stream",
     "text": [
      "(614, 180) (154, 180) (614, 2) (154, 2)\n",
      "(614,) (154,)\n",
      "03-01-03-01-01-01-15.wav\n",
      "03-01-02-02-01-01-09.wav\n",
      "03-01-03-01-02-02-21.wav\n",
      "03-01-03-02-02-02-05.wav\n",
      "03-01-07-01-02-01-21.wav\n",
      "03-01-02-02-02-01-13.wav\n",
      "03-01-03-02-02-02-19.wav\n",
      "03-01-03-02-01-02-03.wav\n",
      "03-01-07-02-02-01-13.wav\n",
      "03-01-03-02-02-01-16.wav\n",
      "03-01-03-02-02-01-06.wav\n",
      "03-01-07-01-02-01-15.wav\n",
      "03-01-03-02-01-01-18.wav\n",
      "03-01-03-02-01-02-13.wav\n",
      "03-01-07-02-02-01-14.wav\n",
      "03-01-06-02-01-02-11.wav\n",
      "03-01-02-02-02-02-02.wav\n",
      "03-01-03-02-01-01-19.wav\n",
      "03-01-07-02-02-02-12.wav\n",
      "03-01-07-01-02-01-03.wav\n",
      "03-01-02-01-01-01-05.wav\n",
      "03-01-07-02-02-01-01.wav\n",
      "03-01-07-02-01-01-08.wav\n",
      "03-01-02-01-01-02-03.wav\n",
      "03-01-03-01-02-01-06.wav\n",
      "03-01-03-01-02-01-04.wav\n",
      "03-01-07-01-02-02-09.wav\n",
      "03-01-07-02-01-02-10.wav\n",
      "03-01-02-01-02-01-14.wav\n",
      "03-01-02-01-01-02-09.wav\n",
      "03-01-03-02-02-01-13.wav\n",
      "03-01-07-02-02-02-22.wav\n",
      "03-01-03-02-02-01-23.wav\n",
      "03-01-06-01-01-02-09.wav\n",
      "03-01-06-02-02-01-13.wav\n",
      "03-01-02-01-01-02-24.wav\n",
      "03-01-02-02-01-02-18.wav\n",
      "03-01-06-02-01-01-22.wav\n",
      "03-01-02-01-01-02-20.wav\n",
      "03-01-02-01-01-01-16.wav\n",
      "03-01-03-01-01-01-23.wav\n",
      "03-01-07-01-01-01-06.wav\n",
      "03-01-02-01-02-02-07.wav\n",
      "03-01-02-02-02-02-18.wav\n",
      "03-01-07-01-01-02-17.wav\n",
      "03-01-02-01-02-02-05.wav\n",
      "03-01-07-01-01-01-16.wav\n",
      "03-01-03-01-01-02-19.wav\n",
      "03-01-02-01-01-02-04.wav\n",
      "03-01-03-02-02-02-02.wav\n",
      "03-01-06-02-01-02-18.wav\n",
      "03-01-06-02-01-02-12.wav\n",
      "03-01-06-01-02-02-07.wav\n",
      "03-01-06-02-01-01-05.wav\n",
      "03-01-03-01-01-01-20.wav\n",
      "03-01-06-01-02-02-22.wav\n",
      "03-01-07-01-02-02-12.wav\n",
      "03-01-03-01-01-01-02.wav\n",
      "03-01-02-02-01-01-08.wav\n",
      "03-01-02-02-01-02-02.wav\n",
      "03-01-07-02-02-02-05.wav\n",
      "03-01-02-01-01-02-11.wav\n",
      "03-01-07-01-02-01-22.wav\n",
      "03-01-02-01-02-01-15.wav\n",
      "03-01-07-02-01-02-06.wav\n",
      "03-01-02-01-02-01-17.wav\n",
      "03-01-02-01-02-02-01.wav\n",
      "03-01-07-02-01-02-11.wav\n",
      "03-01-07-01-01-02-13.wav\n",
      "03-01-03-01-01-01-14.wav\n",
      "03-01-06-01-02-02-23.wav\n",
      "03-01-06-02-02-01-02.wav\n",
      "03-01-06-02-02-02-03.wav\n",
      "03-01-06-02-01-01-04.wav\n",
      "03-01-06-02-02-01-24.wav\n",
      "03-01-07-02-01-01-02.wav\n",
      "03-01-06-02-01-02-07.wav\n",
      "03-01-03-01-01-02-22.wav\n",
      "03-01-02-01-02-02-09.wav\n",
      "03-01-06-02-02-01-21.wav\n",
      "03-01-07-01-01-01-09.wav\n",
      "03-01-02-01-01-01-09.wav\n",
      "03-01-03-01-01-02-16.wav\n",
      "03-01-02-01-01-01-18.wav\n",
      "03-01-07-01-02-02-24.wav\n",
      "03-01-06-01-01-01-03.wav\n",
      "03-01-02-02-02-01-14.wav\n",
      "03-01-03-01-02-02-23.wav\n",
      "03-01-07-02-01-02-19.wav\n",
      "03-01-06-01-02-01-18.wav\n",
      "03-01-07-02-02-01-02.wav\n",
      "03-01-07-01-01-01-12.wav\n",
      "03-01-02-01-01-01-07.wav\n",
      "03-01-06-02-01-01-10.wav\n",
      "03-01-07-01-01-02-03.wav\n",
      "03-01-06-02-01-02-06.wav\n",
      "03-01-02-01-02-01-07.wav\n",
      "03-01-02-01-01-01-24.wav\n",
      "03-01-02-02-01-01-23.wav\n",
      "03-01-07-01-01-02-09.wav\n",
      "03-01-06-02-01-01-20.wav\n",
      "03-01-07-01-01-02-23.wav\n",
      "03-01-07-01-02-02-01.wav\n",
      "03-01-06-01-02-01-16.wav\n",
      "03-01-07-01-01-01-05.wav\n",
      "03-01-02-02-02-02-24.wav\n",
      "03-01-07-01-02-02-03.wav\n",
      "03-01-03-01-02-01-01.wav\n",
      "03-01-06-01-02-01-06.wav\n",
      "03-01-03-02-01-02-02.wav\n",
      "03-01-03-01-02-01-15.wav\n",
      "03-01-02-01-02-02-23.wav\n",
      "03-01-02-01-01-02-10.wav\n",
      "03-01-06-01-01-01-06.wav\n",
      "03-01-06-01-02-01-24.wav\n",
      "03-01-02-01-02-01-05.wav\n",
      "03-01-02-02-01-01-05.wav\n",
      "03-01-03-02-01-01-02.wav\n",
      "03-01-02-02-02-01-03.wav\n",
      "03-01-06-02-02-02-10.wav\n",
      "03-01-02-01-01-01-10.wav\n",
      "03-01-03-01-01-02-11.wav\n",
      "03-01-02-02-01-01-03.wav\n",
      "03-01-03-01-01-02-02.wav\n",
      "03-01-06-02-02-02-02.wav\n",
      "03-01-02-01-02-02-04.wav\n",
      "03-01-07-01-01-01-18.wav\n",
      "03-01-06-01-01-01-01.wav\n",
      "03-01-02-01-02-02-21.wav\n",
      "03-01-02-01-01-02-15.wav\n",
      "03-01-06-02-02-02-17.wav\n",
      "03-01-03-01-01-02-08.wav\n",
      "03-01-03-02-02-01-15.wav\n",
      "03-01-07-01-01-02-21.wav\n",
      "03-01-07-02-02-02-08.wav\n",
      "03-01-03-02-02-01-20.wav\n",
      "03-01-06-01-02-02-19.wav\n",
      "03-01-02-02-02-01-01.wav\n",
      "03-01-07-02-02-02-23.wav\n",
      "03-01-07-02-01-01-10.wav\n",
      "03-01-02-01-02-01-11.wav\n",
      "03-01-06-01-02-02-20.wav\n",
      "03-01-07-01-02-02-22.wav\n",
      "03-01-07-02-01-01-04.wav\n",
      "03-01-03-02-01-02-15.wav\n",
      "03-01-06-02-02-02-11.wav\n",
      "03-01-06-01-01-01-18.wav\n",
      "03-01-07-02-01-01-18.wav\n",
      "03-01-03-01-02-02-20.wav\n",
      "03-01-02-02-02-02-19.wav\n",
      "03-01-03-01-02-01-19.wav\n",
      "03-01-07-02-02-01-15.wav\n",
      "03-01-03-02-02-02-21.wav\n",
      "03-01-02-01-01-01-02.wav\n"
     ]
    }
   ],
   "source": [
    "x_train,x_test,y_trai,y_tes=load_data(test_size=0.2)\n",
    "print(np.shape(x_train),np.shape(x_test),np.shape(y_trai),np.shape(y_tes))\n",
    "y_test_map=np.array(y_tes).T\n",
    "y_test=y_test_map[0]\n",
    "test_filename=y_test_map[1]\n",
    "y_train_map=np.array(y_trai).T\n",
    "y_train=y_train_map[0]\n",
    "train_filename=y_train_map[1]\n",
    "print(np.shape(y_train),np.shape(y_test))\n",
    "print(*test_filename,sep=\"\\n\")\n",
    "\n"
   ]
  },
  {
   "cell_type": "code",
   "execution_count": 58,
   "metadata": {},
   "outputs": [
    {
     "name": "stdout",
     "output_type": "stream",
     "text": [
      "Features extracted: 180\n"
     ]
    }
   ],
   "source": [
    "#the number of features extracted\n",
    "print(f'Features extracted: {x_train.shape[1]}')"
   ]
  },
  {
   "cell_type": "code",
   "execution_count": 59,
   "metadata": {},
   "outputs": [],
   "source": [
    "#Initialize the Multi Layer Perceptron Classifier\n",
    "model=MLPClassifier(alpha=0.01, batch_size=256, epsilon=1e-08, hidden_layer_sizes=(300,), learning_rate='adaptive', max_iter=500)\n"
   ]
  },
  {
   "cell_type": "code",
   "execution_count": 60,
   "metadata": {},
   "outputs": [
    {
     "data": {
      "text/plain": [
       "MLPClassifier(alpha=0.01, batch_size=256, hidden_layer_sizes=(300,),\n",
       "              learning_rate='adaptive', max_iter=500)"
      ]
     },
     "execution_count": 60,
     "metadata": {},
     "output_type": "execute_result"
    }
   ],
   "source": [
    "#Train the model\n",
    "model.fit(x_train,y_train)"
   ]
  },
  {
   "cell_type": "code",
   "execution_count": 61,
   "metadata": {},
   "outputs": [],
   "source": [
    "#Predict for the test set\n",
    "y_pred=model.predict(x_test)"
   ]
  },
  {
   "cell_type": "code",
   "execution_count": 62,
   "metadata": {},
   "outputs": [
    {
     "name": "stdout",
     "output_type": "stream",
     "text": [
      "Accuracy: 74.68%\n"
     ]
    }
   ],
   "source": [
    "#Calculate the accuracy of our model\n",
    "accuracy=accuracy_score(y_true=y_test, y_pred=y_pred)\n",
    "# Print the accuracy\n",
    "print(\"Accuracy: {:.2f}%\".format(accuracy*100))"
   ]
  },
  {
   "cell_type": "code",
   "execution_count": 63,
   "metadata": {},
   "outputs": [
    {
     "name": "stdout",
     "output_type": "stream",
     "text": [
      "    predictions                file_names\n",
      "0         happy  03-01-03-01-01-01-15.wav\n",
      "1       fearful  03-01-02-02-01-01-09.wav\n",
      "2         happy  03-01-03-01-02-02-21.wav\n",
      "3         happy  03-01-03-02-02-02-05.wav\n",
      "4       disgust  03-01-07-01-02-01-21.wav\n",
      "..          ...                       ...\n",
      "149        calm  03-01-02-02-02-02-19.wav\n",
      "150        calm  03-01-03-01-02-01-19.wav\n",
      "151     disgust  03-01-07-02-02-01-15.wav\n",
      "152       happy  03-01-03-02-02-02-21.wav\n",
      "153     disgust  03-01-02-01-01-01-02.wav\n",
      "\n",
      "[154 rows x 2 columns]\n"
     ]
    }
   ],
   "source": [
    "import pandas as pd\n",
    "predicted_values=pd.DataFrame(y_pred, columns=['predictions'])\n",
    "predicted_values['file_names']=test_filename\n",
    "print(predicted_values)\n",
    "predicted_values.to_csv('predictedValues.csv')"
   ]
  },
  {
   "cell_type": "code",
   "execution_count": 64,
   "metadata": {},
   "outputs": [],
   "source": [
    "import pickle\n",
    "\n",
    "model_name=\"emotion_detection_model.pk1\"\n",
    "\n",
    "with open(model_name, 'wb')as file:\n",
    "    pickle.dump(model,file)"
   ]
  },
  {
   "cell_type": "code",
   "execution_count": 65,
   "metadata": {},
   "outputs": [
    {
     "data": {
      "text/plain": [
       "MLPClassifier(alpha=0.01, batch_size=256, hidden_layer_sizes=(300,),\n",
       "              learning_rate='adaptive', max_iter=500)"
      ]
     },
     "execution_count": 65,
     "metadata": {},
     "output_type": "execute_result"
    }
   ],
   "source": [
    "with open(model_name,'rb') as file:\n",
    "    detection_model=pickle.load(file)\n",
    "    \n",
    "detection_model"
   ]
  },
  {
   "cell_type": "code",
   "execution_count": null,
   "metadata": {},
   "outputs": [],
   "source": []
  }
 ],
 "metadata": {
  "kernelspec": {
   "display_name": "Python 3",
   "language": "python",
   "name": "python3"
  },
  "language_info": {
   "codemirror_mode": {
    "name": "ipython",
    "version": 3
   },
   "file_extension": ".py",
   "mimetype": "text/x-python",
   "name": "python",
   "nbconvert_exporter": "python",
   "pygments_lexer": "ipython3",
   "version": "3.8.3"
  }
 },
 "nbformat": 4,
 "nbformat_minor": 4
}
